{
  "nbformat": 4,
  "nbformat_minor": 0,
  "metadata": {
    "colab": {
      "name": "function_approximation.ipynb",
      "provenance": [],
      "collapsed_sections": [],
      "authorship_tag": "ABX9TyMP1qz2a0WmwDBVuepOC9n3",
      "include_colab_link": true
    },
    "kernelspec": {
      "name": "python3",
      "display_name": "Python 3"
    },
    "accelerator": "GPU"
  },
  "cells": [
    {
      "cell_type": "markdown",
      "metadata": {
        "id": "view-in-github",
        "colab_type": "text"
      },
      "source": [
        "<a href=\"https://colab.research.google.com/github/plue1011/PyTorch/blob/master/practice/function_approximation.ipynb\" target=\"_parent\"><img src=\"https://colab.research.google.com/assets/colab-badge.svg\" alt=\"Open In Colab\"/></a>"
      ]
    },
    {
      "cell_type": "code",
      "metadata": {
        "id": "U1WbzpMXe_ki",
        "colab_type": "code",
        "colab": {}
      },
      "source": [
        "import numpy as np\n",
        "import matplotlib.pyplot as plt\n",
        "%matplotlib inline\n",
        "\n",
        "import torch\n",
        "import torch.nn as nn\n",
        "import torch.nn.functional as F\n",
        "import torch.optim as optimizers\n",
        "\n",
        "device = torch.device('cuda' if torch.cuda.is_available() else 'cpu')"
      ],
      "execution_count": 0,
      "outputs": []
    },
    {
      "cell_type": "code",
      "metadata": {
        "id": "LDnbjM_AfiyL",
        "colab_type": "code",
        "colab": {}
      },
      "source": [
        "def f(x):\n",
        "    return x * np.sin(x**2)"
      ],
      "execution_count": 0,
      "outputs": []
    },
    {
      "cell_type": "code",
      "metadata": {
        "id": "1t0BCqTyf9El",
        "colab_type": "code",
        "colab": {}
      },
      "source": [
        "x = np.arange(-3, 3, 0.1)\n",
        "t = f(x)"
      ],
      "execution_count": 0,
      "outputs": []
    },
    {
      "cell_type": "code",
      "metadata": {
        "id": "tk7KVMcqgCBG",
        "colab_type": "code",
        "outputId": "621b89a2-7ff1-4da5-96be-84f958b4fb08",
        "colab": {
          "base_uri": "https://localhost:8080/",
          "height": 284
        }
      },
      "source": [
        "plt.plot(x, t)"
      ],
      "execution_count": 4,
      "outputs": [
        {
          "output_type": "execute_result",
          "data": {
            "text/plain": [
              "[<matplotlib.lines.Line2D at 0x7f3ac9943da0>]"
            ]
          },
          "metadata": {
            "tags": []
          },
          "execution_count": 4
        },
        {
          "output_type": "display_data",
          "data": {
            "image/png": "[encoded data removed]",
            "text/plain": [
              "<Figure size 432x288 with 1 Axes>"
            ]
          },
          "metadata": {
            "tags": [],
            "needs_background": "light"
          }
        }
      ]
    },
    {
      "cell_type": "code",
      "metadata": {
        "id": "8qZlni2vgEcX",
        "colab_type": "code",
        "colab": {}
      },
      "source": [
        "x_tensor = torch.Tensor(x.reshape(len(x), 1)).to(device)\n",
        "t_tensor = torch.Tensor(t.reshape(len(t), 1)).to(device)"
      ],
      "execution_count": 0,
      "outputs": []
    },
    {
      "cell_type": "markdown",
      "metadata": {
        "id": "XXosHpz8pm7S",
        "colab_type": "text"
      },
      "source": [
        "# 活性化関数：線形関数"
      ]
    },
    {
      "cell_type": "code",
      "metadata": {
        "id": "pKKlZqYYhmz8",
        "colab_type": "code",
        "colab": {}
      },
      "source": [
        "# モデルの構築\n",
        "class NN(nn.Module):\n",
        "    def __init__(self, hidden_dim):\n",
        "        super(NN, self).__init__()\n",
        "        self.l1 = nn.Linear(1, hidden_dim)\n",
        "        self.l2 = nn.Linear(hidden_dim, hidden_dim)\n",
        "        self.l3 = nn.Linear(hidden_dim, hidden_dim)\n",
        "        self.l4 = nn.Linear(hidden_dim, 1)\n",
        "\n",
        "        self.layers = [self.l1, self.l2, self.l3, self.l4]\n",
        "\n",
        "    def forward(self, x):\n",
        "        for layer in self.layers:\n",
        "            x = layer(x)\n",
        "        return x\n",
        "\n",
        "hidden_dim = 4  # 中間層の次元数(中間層のニューロン数)\n",
        "\n",
        "## モデルの構築\n",
        "model = NN(hidden_dim).to(device)"
      ],
      "execution_count": 0,
      "outputs": []
    },
    {
      "cell_type": "code",
      "metadata": {
        "id": "KkkDD4vPiYYU",
        "colab_type": "code",
        "outputId": "20a31e9a-a6c7-4537-d727-3e24251df111",
        "colab": {
          "base_uri": "https://localhost:8080/",
          "height": 187
        }
      },
      "source": [
        "# 誤差関数の定義\n",
        "compute_loss = nn.MSELoss(reduction=\"sum\")\n",
        "\n",
        "# 最適化手法の定義\n",
        "optimizer = optimizers.Adam(model.parameters(),\n",
        "                            lr=0.001,\n",
        "                            betas=(0.9, 0.999), \n",
        "                            amsgrad=True)\n",
        "\n",
        "# モデルの学習\n",
        "## 1ステップ分の訓練のための関数\n",
        "def train_step(x, t):\n",
        "    model.train()  # モデルを訓練モードに設定する\n",
        "    preds = model(x)  # modelにxを代入して、予測させる\n",
        "    loss = compute_loss(preds, t)  # 予測値と正解との誤差を求める\n",
        "    optimizer.zero_grad()  # 勾配を初期化する\n",
        "    loss.backward()  # 勾配を計算する\n",
        "    optimizer.step()  # パラメータを更新する\n",
        "    return loss, preds\n",
        "\n",
        "# 学習\n",
        "## 設定\n",
        "epochs = 10000  # エポック数を設定する\n",
        "\n",
        "np.random.seed(123)\n",
        "torch.manual_seed(123)\n",
        "\n",
        "hist = {'loss': []}\n",
        "\n",
        "## モデルの学習\n",
        "for epoch in range(epochs):\n",
        "    loss, preds = train_step(x_tensor, t_tensor)\n",
        "    train_loss = loss.item()\n",
        "    hist['loss'].append(train_loss)\n",
        "    if epoch % 1000 == 0:\n",
        "        print('epoch: {}, loss: {:.3}'.format(epoch+1, train_loss))"
      ],
      "execution_count": 7,
      "outputs": [
        {
          "output_type": "stream",
          "text": [
            "epoch: 1, loss: 1.02e+02\n",
            "epoch: 1001, loss: 89.7\n",
            "epoch: 2001, loss: 89.7\n",
            "epoch: 3001, loss: 89.7\n",
            "epoch: 4001, loss: 89.7\n",
            "epoch: 5001, loss: 89.7\n",
            "epoch: 6001, loss: 89.7\n",
            "epoch: 7001, loss: 89.7\n",
            "epoch: 8001, loss: 89.7\n",
            "epoch: 9001, loss: 89.7\n"
          ],
          "name": "stdout"
        }
      ]
    },
    {
      "cell_type": "code",
      "metadata": {
        "id": "g835saCgpH98",
        "colab_type": "code",
        "outputId": "d347d62f-3c7f-48b0-eb46-22e24f28ac05",
        "colab": {
          "base_uri": "https://localhost:8080/",
          "height": 277
        }
      },
      "source": [
        "loss = hist['loss']\n",
        "\n",
        "fig = plt.figure()\n",
        "plt.rc('font', family='serif')\n",
        "plt.plot(range(len(loss)), loss, linewidth=1,\n",
        "             label='loss')\n",
        "plt.xlabel('epochs')\n",
        "plt.ylabel('loss')\n",
        "plt.legend()\n",
        "plt.show()"
      ],
      "execution_count": 8,
      "outputs": [
        {
          "output_type": "display_data",
          "data": {
            "image/png": "[encoded data removed]",
            "text/plain": [
              "<Figure size 432x288 with 1 Axes>"
            ]
          },
          "metadata": {
            "tags": [],
            "needs_background": "light"
          }
        }
      ]
    },
    {
      "cell_type": "code",
      "metadata": {
        "id": "4eVFY2v-k0hB",
        "colab_type": "code",
        "colab": {}
      },
      "source": [
        "model.eval()\n",
        "y_tensor = model(x_tensor)\n",
        "y = y_tensor.data.cpu().numpy().reshape(-1, )"
      ],
      "execution_count": 0,
      "outputs": []
    },
    {
      "cell_type": "code",
      "metadata": {
        "id": "A7GdPEJZk8L8",
        "colab_type": "code",
        "outputId": "02b41877-5203-4340-9610-c2a6b76fb41d",
        "colab": {
          "base_uri": "https://localhost:8080/",
          "height": 282
        }
      },
      "source": [
        "plt.scatter(x, y)\n",
        "plt.scatter(x, t)\n",
        "plt.plot(x, y)\n",
        "plt.plot(x, t)"
      ],
      "execution_count": 10,
      "outputs": [
        {
          "output_type": "execute_result",
          "data": {
            "text/plain": [
              "[<matplotlib.lines.Line2D at 0x7f3ac81ecf60>]"
            ]
          },
          "metadata": {
            "tags": []
          },
          "execution_count": 10
        },
        {
          "output_type": "display_data",
          "data": {
            "image/png": "[encoded data removed]",
            "text/plain": [
              "<Figure size 432x288 with 1 Axes>"
            ]
          },
          "metadata": {
            "tags": [],
            "needs_background": "light"
          }
        }
      ]
    },
    {
      "cell_type": "markdown",
      "metadata": {
        "id": "srZKjbQRn9QK",
        "colab_type": "text"
      },
      "source": [
        "# 活性関数：非線形関数"
      ]
    },
    {
      "cell_type": "code",
      "metadata": {
        "colab_type": "code",
        "id": "6YlDV1hEtGt7",
        "colab": {}
      },
      "source": [
        "# モデルの構築\n",
        "class NN(nn.Module):\n",
        "    def __init__(self, hidden_dim):\n",
        "        super(NN, self).__init__()\n",
        "        self.l1 = nn.Linear(1, hidden_dim)\n",
        "        self.l2 = nn.Linear(hidden_dim, hidden_dim)\n",
        "        self.l3 = nn.Linear(hidden_dim, 1)\n",
        "\n",
        "    def forward(self, x):\n",
        "        x = F.relu(self.l1(x))\n",
        "        x = F.relu(self.l2(x))\n",
        "        x = self.l3(x)\n",
        "        return x\n",
        "\n",
        "hidden_dim = 50  # 中間層の次元数(中間層のニューロン数)\n",
        "\n",
        "## モデルの構築\n",
        "model = NN(hidden_dim).to(device)"
      ],
      "execution_count": 0,
      "outputs": []
    },
    {
      "cell_type": "code",
      "metadata": {
        "colab_type": "code",
        "outputId": "097f8123-7cfb-47c2-fd97-58283817f8d4",
        "id": "9mcIJH8TtGt_",
        "colab": {
          "base_uri": "https://localhost:8080/",
          "height": 187
        }
      },
      "source": [
        "# 誤差関数の定義\n",
        "compute_loss = nn.MSELoss(reduction=\"sum\")\n",
        "\n",
        "# 最適化手法の定義\n",
        "optimizer = optimizers.Adam(model.parameters(),\n",
        "                            lr=0.001,\n",
        "                            betas=(0.9, 0.999), \n",
        "                            amsgrad=True)\n",
        "\n",
        "# モデルの学習\n",
        "## 1ステップ分の訓練のための関数\n",
        "def train_step(x, t):\n",
        "    model.train()  # モデルを訓練モードに設定する\n",
        "    preds = model(x)  # modelにxを代入して、予測させる\n",
        "    loss = compute_loss(preds, t)  # 予測値と正解との誤差を求める\n",
        "    optimizer.zero_grad()  # 勾配を初期化する\n",
        "    loss.backward()  # 勾配を計算する\n",
        "    optimizer.step()  # パラメータを更新する\n",
        "    return loss, preds\n",
        "\n",
        "# 学習\n",
        "## 設定\n",
        "epochs = 10000  # エポック数を設定する\n",
        "\n",
        "np.random.seed(123)\n",
        "torch.manual_seed(123)\n",
        "\n",
        "hist = {'loss': []}\n",
        "\n",
        "## モデルの学習\n",
        "for epoch in range(epochs):\n",
        "    loss, preds = train_step(x_tensor, t_tensor)\n",
        "    train_loss = loss.item()\n",
        "    hist['loss'].append(train_loss)\n",
        "    if epoch % 1000 == 0:\n",
        "        print('epoch: {}, loss: {:.3}'.format(epoch+1, train_loss))"
      ],
      "execution_count": 12,
      "outputs": [
        {
          "output_type": "stream",
          "text": [
            "epoch: 1, loss: 95.5\n",
            "epoch: 1001, loss: 6.25\n",
            "epoch: 2001, loss: 3.25\n",
            "epoch: 3001, loss: 2.03\n",
            "epoch: 4001, loss: 1.74\n",
            "epoch: 5001, loss: 1.67\n",
            "epoch: 6001, loss: 1.63\n",
            "epoch: 7001, loss: 1.66\n",
            "epoch: 8001, loss: 1.67\n",
            "epoch: 9001, loss: 1.59\n"
          ],
          "name": "stdout"
        }
      ]
    },
    {
      "cell_type": "code",
      "metadata": {
        "colab_type": "code",
        "outputId": "a8f40e84-2aa6-483f-a868-c1a6227c6cab",
        "id": "-6zAAZPHtGuE",
        "colab": {
          "base_uri": "https://localhost:8080/",
          "height": 280
        }
      },
      "source": [
        "loss = hist['loss']\n",
        "\n",
        "fig = plt.figure()\n",
        "plt.rc('font', family='serif')\n",
        "plt.plot(range(len(loss)), loss, linewidth=1,\n",
        "             label='loss')\n",
        "plt.xlabel('epochs')\n",
        "plt.ylabel('loss')\n",
        "plt.legend()\n",
        "plt.show()"
      ],
      "execution_count": 13,
      "outputs": [
        {
          "output_type": "display_data",
          "data": {
            "image/png": "[encoded data removed]",
            "text/plain": [
              "<Figure size 432x288 with 1 Axes>"
            ]
          },
          "metadata": {
            "tags": [],
            "needs_background": "light"
          }
        }
      ]
    },
    {
      "cell_type": "code",
      "metadata": {
        "colab_type": "code",
        "id": "m1nkF46StGuH",
        "colab": {}
      },
      "source": [
        "model.eval()\n",
        "y_tensor = model(x_tensor)\n",
        "y = y_tensor.data.cpu().numpy().reshape(-1, )"
      ],
      "execution_count": 0,
      "outputs": []
    },
    {
      "cell_type": "code",
      "metadata": {
        "colab_type": "code",
        "outputId": "aa52678d-1f25-4037-fb99-49e81d51a271",
        "id": "juATYECItGuK",
        "colab": {
          "base_uri": "https://localhost:8080/",
          "height": 281
        }
      },
      "source": [
        "plt.plot(x, t)\n",
        "plt.plot(x, y, linestyle=\"--\")"
      ],
      "execution_count": 15,
      "outputs": [
        {
          "output_type": "execute_result",
          "data": {
            "text/plain": [
              "[<matplotlib.lines.Line2D at 0x7f3ac812bc50>]"
            ]
          },
          "metadata": {
            "tags": []
          },
          "execution_count": 15
        },
        {
          "output_type": "display_data",
          "data": {
            "image/png": "[encoded data removed]",
            "text/plain": [
              "<Figure size 432x288 with 1 Axes>"
            ]
          },
          "metadata": {
            "tags": [],
            "needs_background": "light"
          }
        }
      ]
    },
    {
      "cell_type": "code",
      "metadata": {
        "id": "I90OYd5HzcWc",
        "colab_type": "code",
        "colab": {}
      },
      "source": [
        ""
      ],
      "execution_count": 0,
      "outputs": []
    }
  ]
}