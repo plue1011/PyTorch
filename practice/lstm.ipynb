{
  "nbformat": 4,
  "nbformat_minor": 0,
  "metadata": {
    "colab": {
      "name": "lstm.ipynb",
      "provenance": [],
      "collapsed_sections": [],
      "authorship_tag": "ABX9TyO5Cq930bXD+EDapfS/GDFq",
      "include_colab_link": true
    },
    "kernelspec": {
      "name": "python3",
      "display_name": "Python 3"
    }
  },
  "cells": [
    {
      "cell_type": "markdown",
      "metadata": {
        "id": "view-in-github",
        "colab_type": "text"
      },
      "source": [
        "<a href=\"https://colab.research.google.com/github/plue1011/PyTorch/blob/master/practice/lstm.ipynb\" target=\"_parent\"><img src=\"https://colab.research.google.com/assets/colab-badge.svg\" alt=\"Open In Colab\"/></a>"
      ]
    },
    {
      "cell_type": "code",
      "metadata": {
        "id": "tWp-RM5BYPHU",
        "colab_type": "code",
        "colab": {}
      },
      "source": [
        "# http://hilinker.hatenablog.com/entry/2018/06/23/204910"
      ],
      "execution_count": 0,
      "outputs": []
    },
    {
      "cell_type": "code",
      "metadata": {
        "id": "AjPx2mTNYgy4",
        "colab_type": "code",
        "colab": {}
      },
      "source": [
        "import torch\n",
        "import torch.nn as nn\n",
        "from torch.optim import SGD\n",
        "import math\n",
        "import numpy as np\n",
        "import matplotlib.pyplot as plt\n"
      ],
      "execution_count": 0,
      "outputs": []
    },
    {
      "cell_type": "markdown",
      "metadata": {
        "id": "hued4-F5Y8DO",
        "colab_type": "text"
      },
      "source": [
        "# 1. データセット作成"
      ]
    },
    {
      "cell_type": "code",
      "metadata": {
        "id": "IjNgMw5DZChD",
        "colab_type": "code",
        "colab": {}
      },
      "source": [
        "def make_dataset(data_size, data_length=100, freq=60., noise=0.02):\n",
        "    \"\"\"\n",
        "    params\n",
        "      data_size : データセットサイズ\n",
        "      data_length : 各データの時系列長\n",
        "      freq : 周波数\n",
        "      noise : ノイズの振幅\n",
        "    returns\n",
        "      train_x : トレーニングデータ（t=1,2,...,size-1の値)\n",
        "      train_t : トレーニングデータのラベル（t=sizeの値）\n",
        "    \"\"\"\n",
        "    train_x = []\n",
        "    train_t = []\n",
        "\n",
        "    for offset in range(data_size):\n",
        "        train_x.append([[math.sin(2 * math.pi * (offset + i) / freq) + np.random.normal(loc=0.0, scale=noise)] for i in range(data_length)])\n",
        "        train_t.append([math.sin(2 * math.pi * (offset + data_length) / freq)])\n",
        "\n",
        "    return train_x, train_t"
      ],
      "execution_count": 0,
      "outputs": []
    },
    {
      "cell_type": "code",
      "metadata": {
        "id": "ek2CZUXaZQPO",
        "colab_type": "code",
        "colab": {}
      },
      "source": [
        "# 一般に[t_nのときのsinの値]には、ベクトルが入るためリストになっている\n",
        "\n",
        "# train_x[0] = [[t_0のときのsinの値], [t_1のときのsinの値], ..., [t_100のときのsinの値]]\n",
        "# train_x[1] = [[t_1のときのsinの値], [t_2のときのsinの値], ..., [t_101のときのsinの値]]\n",
        "# .\n",
        "# .\n",
        "# .\n",
        "# train_x[N] = [[t_Nのときのsinの値], [t_N+1のときのsinの値], ..., [t_N+100のときのsinの値]]\n",
        "\n",
        "# train_t = [[t_101のときのsinの値], [t_102のときのsinの値], ... ]"
      ],
      "execution_count": 0,
      "outputs": []
    },
    {
      "cell_type": "code",
      "metadata": {
        "id": "-QPwiyY3gh9J",
        "colab_type": "code",
        "colab": {
          "base_uri": "https://localhost:8080/",
          "height": 265
        },
        "outputId": "c1d1e9fb-a996-4a37-82d2-70f105d38fc1"
      },
      "source": [
        "# 作成されるデータの確認\n",
        "sample_train_x, sample_train_t = make_dataset(20)\n",
        "sample_data_0 = [i[0] for i in sample_train_x[0]]\n",
        "sample_data_10 = [i[0] for i in sample_train_x[10]]\n",
        "plt.plot(range(len(sample_data_0)), sample_data_0)\n",
        "plt.plot(range(len(sample_data_10)), sample_data_10)\n",
        "plt.show()"
      ],
      "execution_count": 34,
      "outputs": [
        {
          "output_type": "display_data",
          "data": {
            "image/png": "[encoded data removed]",
            "text/plain": [
              "<Figure size 432x288 with 1 Axes>"
            ]
          },
          "metadata": {
            "tags": []
          }
        }
      ]
    },
    {
      "cell_type": "markdown",
      "metadata": {
        "id": "cUJVShJSZ3Tt",
        "colab_type": "text"
      },
      "source": [
        "# 2. モデル作成"
      ]
    },
    {
      "cell_type": "code",
      "metadata": {
        "id": "_daEN7-paEiQ",
        "colab_type": "code",
        "colab": {}
      },
      "source": [
        "class Predictor(nn.Module):\n",
        "    def __init__(self, inputDim, hiddenDim, outputDim):\n",
        "        super(Predictor, self).__init__()\n",
        "\n",
        "        self.rnn = nn.LSTM(input_size = inputDim,\n",
        "                            hidden_size = hiddenDim,\n",
        "                            batch_first = True)\n",
        "        self.output_layer = nn.Linear(hiddenDim, outputDim)\n",
        "    \n",
        "    def forward(self, inputs, hidden0=None):\n",
        "        output, (hidden, cell) = self.rnn(inputs, hidden0) #LSTM層\n",
        "        output = self.output_layer(output[:, -1, :]) #全結合層\n",
        "\n",
        "        return output"
      ],
      "execution_count": 0,
      "outputs": []
    },
    {
      "cell_type": "markdown",
      "metadata": {
        "id": "wO_gOGiuisqe",
        "colab_type": "text"
      },
      "source": [
        "# 3. トレーニング"
      ]
    },
    {
      "cell_type": "code",
      "metadata": {
        "id": "R3H5RgoDfody",
        "colab_type": "code",
        "colab": {}
      },
      "source": [
        "training_size = 100 #traning dataのデータ数\n",
        "epochs_num = 1000 #traningのepoch回数\n",
        "hidden_size = 5 #LSTMの隠れ層の次元数\n",
        "\n",
        "train_x, train_t = make_dataset(training_size) #Datasetの作成\n",
        "\n",
        "model = Predictor(1, hidden_size, 1) #modelの宣言\n",
        "criterion = nn.MSELoss() #評価関数の宣言\n",
        "optimizer = SGD(model.parameters(), lr=0.01) #最適化関数の宣言"
      ],
      "execution_count": 0,
      "outputs": []
    },
    {
      "cell_type": "code",
      "metadata": {
        "id": "sH7EQ_lZi9IK",
        "colab_type": "code",
        "colab": {
          "base_uri": "https://localhost:8080/",
          "height": 1000
        },
        "outputId": "e1fd4e4d-6afd-471a-a526-38deb3bdb5a8"
      },
      "source": [
        "for epoch in range(epochs_num):\n",
        "    # training\n",
        "    running_loss = 0.0\n",
        "    training_accuracy = 0.0\n",
        "    for i in range(training_size):\n",
        "        optimizer.zero_grad()\n",
        "        data = torch.tensor([train_x[i]])\n",
        "        label = torch.tensor([train_t[i]])\n",
        "\n",
        "        output = model(data)\n",
        "\n",
        "        loss = criterion(output, label)\n",
        "        loss.backward()\n",
        "        optimizer.step()\n",
        "\n",
        "        running_loss += loss.item()\n",
        "        training_accuracy += np.sum(np.abs((output.data - label.data).numpy()) < 0.1) #outputとlabelの誤差が0.1以内なら正しいとみなす。\n",
        "    training_accuracy /= training_size\n",
        "    print('%d loss: %.3f, training_accuracy: %.5f' % (epoch + 1, running_loss, training_accuracy))"
      ],
      "execution_count": 88,
      "outputs": [
        {
          "output_type": "stream",
          "text": [
            "1 loss: 36.941, training_accuracy: 0.07000\n",
            "2 loss: 21.765, training_accuracy: 0.08000\n",
            "3 loss: 10.628, training_accuracy: 0.10000\n",
            "4 loss: 6.026, training_accuracy: 0.16000\n",
            "5 loss: 4.421, training_accuracy: 0.21000\n",
            "6 loss: 3.726, training_accuracy: 0.29000\n",
            "7 loss: 3.327, training_accuracy: 0.30000\n",
            "8 loss: 3.050, training_accuracy: 0.32000\n",
            "9 loss: 2.836, training_accuracy: 0.34000\n",
            "10 loss: 2.661, training_accuracy: 0.36000\n",
            "11 loss: 2.513, training_accuracy: 0.36000\n",
            "12 loss: 2.385, training_accuracy: 0.39000\n",
            "13 loss: 2.272, training_accuracy: 0.39000\n",
            "14 loss: 2.172, training_accuracy: 0.39000\n",
            "15 loss: 2.082, training_accuracy: 0.41000\n",
            "16 loss: 2.000, training_accuracy: 0.42000\n",
            "17 loss: 1.926, training_accuracy: 0.42000\n",
            "18 loss: 1.857, training_accuracy: 0.42000\n",
            "19 loss: 1.794, training_accuracy: 0.42000\n",
            "20 loss: 1.735, training_accuracy: 0.45000\n",
            "21 loss: 1.680, training_accuracy: 0.46000\n",
            "22 loss: 1.629, training_accuracy: 0.47000\n",
            "23 loss: 1.580, training_accuracy: 0.47000\n",
            "24 loss: 1.535, training_accuracy: 0.47000\n",
            "25 loss: 1.491, training_accuracy: 0.49000\n",
            "26 loss: 1.450, training_accuracy: 0.49000\n",
            "27 loss: 1.411, training_accuracy: 0.49000\n",
            "28 loss: 1.373, training_accuracy: 0.50000\n",
            "29 loss: 1.337, training_accuracy: 0.51000\n",
            "30 loss: 1.303, training_accuracy: 0.54000\n",
            "31 loss: 1.270, training_accuracy: 0.56000\n",
            "32 loss: 1.238, training_accuracy: 0.57000\n",
            "33 loss: 1.207, training_accuracy: 0.57000\n",
            "34 loss: 1.177, training_accuracy: 0.59000\n",
            "35 loss: 1.149, training_accuracy: 0.61000\n",
            "36 loss: 1.121, training_accuracy: 0.61000\n",
            "37 loss: 1.094, training_accuracy: 0.61000\n",
            "38 loss: 1.067, training_accuracy: 0.61000\n",
            "39 loss: 1.042, training_accuracy: 0.63000\n",
            "40 loss: 1.017, training_accuracy: 0.63000\n",
            "41 loss: 0.993, training_accuracy: 0.63000\n",
            "42 loss: 0.969, training_accuracy: 0.64000\n",
            "43 loss: 0.946, training_accuracy: 0.64000\n",
            "44 loss: 0.923, training_accuracy: 0.64000\n",
            "45 loss: 0.901, training_accuracy: 0.64000\n",
            "46 loss: 0.879, training_accuracy: 0.64000\n",
            "47 loss: 0.858, training_accuracy: 0.65000\n",
            "48 loss: 0.837, training_accuracy: 0.66000\n",
            "49 loss: 0.817, training_accuracy: 0.67000\n",
            "50 loss: 0.797, training_accuracy: 0.68000\n",
            "51 loss: 0.778, training_accuracy: 0.70000\n",
            "52 loss: 0.758, training_accuracy: 0.70000\n",
            "53 loss: 0.740, training_accuracy: 0.71000\n",
            "54 loss: 0.721, training_accuracy: 0.72000\n",
            "55 loss: 0.703, training_accuracy: 0.72000\n",
            "56 loss: 0.685, training_accuracy: 0.75000\n",
            "57 loss: 0.668, training_accuracy: 0.76000\n",
            "58 loss: 0.651, training_accuracy: 0.76000\n",
            "59 loss: 0.634, training_accuracy: 0.79000\n",
            "60 loss: 0.618, training_accuracy: 0.79000\n",
            "61 loss: 0.602, training_accuracy: 0.79000\n",
            "62 loss: 0.586, training_accuracy: 0.79000\n",
            "63 loss: 0.571, training_accuracy: 0.82000\n",
            "64 loss: 0.555, training_accuracy: 0.82000\n",
            "65 loss: 0.541, training_accuracy: 0.83000\n",
            "66 loss: 0.526, training_accuracy: 0.85000\n",
            "67 loss: 0.512, training_accuracy: 0.87000\n",
            "68 loss: 0.498, training_accuracy: 0.87000\n",
            "69 loss: 0.485, training_accuracy: 0.87000\n",
            "70 loss: 0.472, training_accuracy: 0.87000\n",
            "71 loss: 0.459, training_accuracy: 0.87000\n",
            "72 loss: 0.447, training_accuracy: 0.87000\n",
            "73 loss: 0.435, training_accuracy: 0.87000\n",
            "74 loss: 0.423, training_accuracy: 0.89000\n",
            "75 loss: 0.411, training_accuracy: 0.90000\n",
            "76 loss: 0.400, training_accuracy: 0.91000\n",
            "77 loss: 0.389, training_accuracy: 0.91000\n",
            "78 loss: 0.379, training_accuracy: 0.91000\n",
            "79 loss: 0.369, training_accuracy: 0.92000\n",
            "80 loss: 0.359, training_accuracy: 0.93000\n",
            "81 loss: 0.350, training_accuracy: 0.93000\n",
            "82 loss: 0.341, training_accuracy: 0.93000\n",
            "83 loss: 0.332, training_accuracy: 0.93000\n",
            "84 loss: 0.324, training_accuracy: 0.93000\n",
            "85 loss: 0.315, training_accuracy: 0.93000\n",
            "86 loss: 0.308, training_accuracy: 0.94000\n",
            "87 loss: 0.300, training_accuracy: 0.95000\n",
            "88 loss: 0.293, training_accuracy: 0.96000\n",
            "89 loss: 0.286, training_accuracy: 0.96000\n",
            "90 loss: 0.280, training_accuracy: 0.96000\n",
            "91 loss: 0.273, training_accuracy: 0.96000\n",
            "92 loss: 0.267, training_accuracy: 0.97000\n",
            "93 loss: 0.261, training_accuracy: 0.98000\n",
            "94 loss: 0.256, training_accuracy: 0.98000\n",
            "95 loss: 0.251, training_accuracy: 0.98000\n",
            "96 loss: 0.246, training_accuracy: 0.98000\n",
            "97 loss: 0.241, training_accuracy: 0.98000\n",
            "98 loss: 0.236, training_accuracy: 0.99000\n",
            "99 loss: 0.232, training_accuracy: 0.99000\n",
            "100 loss: 0.228, training_accuracy: 0.99000\n",
            "101 loss: 0.224, training_accuracy: 0.99000\n",
            "102 loss: 0.220, training_accuracy: 0.99000\n",
            "103 loss: 0.217, training_accuracy: 1.00000\n",
            "104 loss: 0.213, training_accuracy: 1.00000\n",
            "105 loss: 0.210, training_accuracy: 1.00000\n",
            "106 loss: 0.207, training_accuracy: 1.00000\n",
            "107 loss: 0.204, training_accuracy: 1.00000\n",
            "108 loss: 0.202, training_accuracy: 1.00000\n",
            "109 loss: 0.199, training_accuracy: 1.00000\n",
            "110 loss: 0.196, training_accuracy: 1.00000\n",
            "111 loss: 0.194, training_accuracy: 1.00000\n",
            "112 loss: 0.192, training_accuracy: 1.00000\n",
            "113 loss: 0.190, training_accuracy: 1.00000\n",
            "114 loss: 0.188, training_accuracy: 1.00000\n",
            "115 loss: 0.186, training_accuracy: 1.00000\n",
            "116 loss: 0.184, training_accuracy: 1.00000\n",
            "117 loss: 0.182, training_accuracy: 1.00000\n",
            "118 loss: 0.180, training_accuracy: 1.00000\n",
            "119 loss: 0.179, training_accuracy: 1.00000\n",
            "120 loss: 0.177, training_accuracy: 1.00000\n",
            "121 loss: 0.175, training_accuracy: 1.00000\n",
            "122 loss: 0.174, training_accuracy: 1.00000\n",
            "123 loss: 0.173, training_accuracy: 1.00000\n",
            "124 loss: 0.171, training_accuracy: 1.00000\n",
            "125 loss: 0.170, training_accuracy: 1.00000\n",
            "126 loss: 0.169, training_accuracy: 1.00000\n",
            "127 loss: 0.167, training_accuracy: 1.00000\n",
            "128 loss: 0.166, training_accuracy: 1.00000\n",
            "129 loss: 0.165, training_accuracy: 1.00000\n",
            "130 loss: 0.164, training_accuracy: 1.00000\n",
            "131 loss: 0.163, training_accuracy: 1.00000\n",
            "132 loss: 0.162, training_accuracy: 1.00000\n",
            "133 loss: 0.161, training_accuracy: 1.00000\n",
            "134 loss: 0.160, training_accuracy: 1.00000\n",
            "135 loss: 0.159, training_accuracy: 1.00000\n",
            "136 loss: 0.158, training_accuracy: 1.00000\n",
            "137 loss: 0.157, training_accuracy: 1.00000\n",
            "138 loss: 0.156, training_accuracy: 1.00000\n",
            "139 loss: 0.155, training_accuracy: 1.00000\n",
            "140 loss: 0.154, training_accuracy: 1.00000\n",
            "141 loss: 0.154, training_accuracy: 1.00000\n",
            "142 loss: 0.153, training_accuracy: 1.00000\n",
            "143 loss: 0.152, training_accuracy: 1.00000\n",
            "144 loss: 0.151, training_accuracy: 1.00000\n",
            "145 loss: 0.151, training_accuracy: 1.00000\n",
            "146 loss: 0.150, training_accuracy: 1.00000\n",
            "147 loss: 0.149, training_accuracy: 1.00000\n",
            "148 loss: 0.148, training_accuracy: 1.00000\n",
            "149 loss: 0.148, training_accuracy: 1.00000\n",
            "150 loss: 0.147, training_accuracy: 1.00000\n",
            "151 loss: 0.146, training_accuracy: 1.00000\n",
            "152 loss: 0.146, training_accuracy: 1.00000\n",
            "153 loss: 0.145, training_accuracy: 1.00000\n",
            "154 loss: 0.144, training_accuracy: 1.00000\n",
            "155 loss: 0.144, training_accuracy: 1.00000\n",
            "156 loss: 0.143, training_accuracy: 1.00000\n",
            "157 loss: 0.142, training_accuracy: 1.00000\n",
            "158 loss: 0.142, training_accuracy: 1.00000\n",
            "159 loss: 0.141, training_accuracy: 1.00000\n",
            "160 loss: 0.140, training_accuracy: 1.00000\n",
            "161 loss: 0.140, training_accuracy: 1.00000\n",
            "162 loss: 0.139, training_accuracy: 1.00000\n",
            "163 loss: 0.139, training_accuracy: 1.00000\n",
            "164 loss: 0.138, training_accuracy: 1.00000\n",
            "165 loss: 0.138, training_accuracy: 1.00000\n",
            "166 loss: 0.137, training_accuracy: 1.00000\n",
            "167 loss: 0.136, training_accuracy: 1.00000\n",
            "168 loss: 0.136, training_accuracy: 1.00000\n",
            "169 loss: 0.135, training_accuracy: 1.00000\n",
            "170 loss: 0.135, training_accuracy: 1.00000\n",
            "171 loss: 0.134, training_accuracy: 1.00000\n",
            "172 loss: 0.134, training_accuracy: 1.00000\n",
            "173 loss: 0.133, training_accuracy: 1.00000\n",
            "174 loss: 0.133, training_accuracy: 1.00000\n",
            "175 loss: 0.132, training_accuracy: 1.00000\n",
            "176 loss: 0.132, training_accuracy: 1.00000\n",
            "177 loss: 0.131, training_accuracy: 1.00000\n",
            "178 loss: 0.131, training_accuracy: 1.00000\n",
            "179 loss: 0.130, training_accuracy: 1.00000\n",
            "180 loss: 0.130, training_accuracy: 1.00000\n",
            "181 loss: 0.129, training_accuracy: 1.00000\n",
            "182 loss: 0.129, training_accuracy: 1.00000\n",
            "183 loss: 0.128, training_accuracy: 1.00000\n",
            "184 loss: 0.128, training_accuracy: 1.00000\n",
            "185 loss: 0.127, training_accuracy: 1.00000\n",
            "186 loss: 0.127, training_accuracy: 1.00000\n",
            "187 loss: 0.127, training_accuracy: 1.00000\n",
            "188 loss: 0.126, training_accuracy: 1.00000\n",
            "189 loss: 0.126, training_accuracy: 1.00000\n",
            "190 loss: 0.125, training_accuracy: 1.00000\n",
            "191 loss: 0.125, training_accuracy: 1.00000\n",
            "192 loss: 0.124, training_accuracy: 1.00000\n",
            "193 loss: 0.124, training_accuracy: 1.00000\n",
            "194 loss: 0.123, training_accuracy: 1.00000\n",
            "195 loss: 0.123, training_accuracy: 1.00000\n",
            "196 loss: 0.123, training_accuracy: 1.00000\n",
            "197 loss: 0.122, training_accuracy: 1.00000\n",
            "198 loss: 0.122, training_accuracy: 1.00000\n",
            "199 loss: 0.121, training_accuracy: 1.00000\n",
            "200 loss: 0.121, training_accuracy: 1.00000\n",
            "201 loss: 0.121, training_accuracy: 1.00000\n",
            "202 loss: 0.120, training_accuracy: 1.00000\n",
            "203 loss: 0.120, training_accuracy: 1.00000\n",
            "204 loss: 0.119, training_accuracy: 1.00000\n",
            "205 loss: 0.119, training_accuracy: 1.00000\n",
            "206 loss: 0.119, training_accuracy: 1.00000\n",
            "207 loss: 0.118, training_accuracy: 1.00000\n",
            "208 loss: 0.118, training_accuracy: 1.00000\n",
            "209 loss: 0.117, training_accuracy: 1.00000\n",
            "210 loss: 0.117, training_accuracy: 1.00000\n",
            "211 loss: 0.117, training_accuracy: 1.00000\n",
            "212 loss: 0.116, training_accuracy: 1.00000\n",
            "213 loss: 0.116, training_accuracy: 1.00000\n",
            "214 loss: 0.116, training_accuracy: 1.00000\n",
            "215 loss: 0.115, training_accuracy: 1.00000\n",
            "216 loss: 0.115, training_accuracy: 1.00000\n"
          ],
          "name": "stdout"
        },
        {
          "output_type": "error",
          "ename": "KeyboardInterrupt",
          "evalue": "ignored",
          "traceback": [
            "\u001b[0;31m---------------------------------------------------------------------------\u001b[0m",
            "\u001b[0;31mKeyboardInterrupt\u001b[0m                         Traceback (most recent call last)",
            "\u001b[0;32m<ipython-input-88-c76f1eebccba>\u001b[0m in \u001b[0;36m<module>\u001b[0;34m()\u001b[0m\n\u001b[1;32m      8\u001b[0m         \u001b[0mlabel\u001b[0m \u001b[0;34m=\u001b[0m \u001b[0mtorch\u001b[0m\u001b[0;34m.\u001b[0m\u001b[0mtensor\u001b[0m\u001b[0;34m(\u001b[0m\u001b[0;34m[\u001b[0m\u001b[0mtrain_t\u001b[0m\u001b[0;34m[\u001b[0m\u001b[0mi\u001b[0m\u001b[0;34m]\u001b[0m\u001b[0;34m]\u001b[0m\u001b[0;34m)\u001b[0m\u001b[0;34m\u001b[0m\u001b[0;34m\u001b[0m\u001b[0m\n\u001b[1;32m      9\u001b[0m \u001b[0;34m\u001b[0m\u001b[0m\n\u001b[0;32m---> 10\u001b[0;31m         \u001b[0moutput\u001b[0m \u001b[0;34m=\u001b[0m \u001b[0mmodel\u001b[0m\u001b[0;34m(\u001b[0m\u001b[0mdata\u001b[0m\u001b[0;34m)\u001b[0m\u001b[0;34m\u001b[0m\u001b[0;34m\u001b[0m\u001b[0m\n\u001b[0m\u001b[1;32m     11\u001b[0m \u001b[0;34m\u001b[0m\u001b[0m\n\u001b[1;32m     12\u001b[0m         \u001b[0mloss\u001b[0m \u001b[0;34m=\u001b[0m \u001b[0mcriterion\u001b[0m\u001b[0;34m(\u001b[0m\u001b[0moutput\u001b[0m\u001b[0;34m,\u001b[0m \u001b[0mlabel\u001b[0m\u001b[0;34m)\u001b[0m\u001b[0;34m\u001b[0m\u001b[0;34m\u001b[0m\u001b[0m\n",
            "\u001b[0;32m/usr/local/lib/python3.6/dist-packages/torch/nn/modules/module.py\u001b[0m in \u001b[0;36m__call__\u001b[0;34m(self, *input, **kwargs)\u001b[0m\n\u001b[1;32m    530\u001b[0m             \u001b[0mresult\u001b[0m \u001b[0;34m=\u001b[0m \u001b[0mself\u001b[0m\u001b[0;34m.\u001b[0m\u001b[0m_slow_forward\u001b[0m\u001b[0;34m(\u001b[0m\u001b[0;34m*\u001b[0m\u001b[0minput\u001b[0m\u001b[0;34m,\u001b[0m \u001b[0;34m**\u001b[0m\u001b[0mkwargs\u001b[0m\u001b[0;34m)\u001b[0m\u001b[0;34m\u001b[0m\u001b[0;34m\u001b[0m\u001b[0m\n\u001b[1;32m    531\u001b[0m         \u001b[0;32melse\u001b[0m\u001b[0;34m:\u001b[0m\u001b[0;34m\u001b[0m\u001b[0;34m\u001b[0m\u001b[0m\n\u001b[0;32m--> 532\u001b[0;31m             \u001b[0mresult\u001b[0m \u001b[0;34m=\u001b[0m \u001b[0mself\u001b[0m\u001b[0;34m.\u001b[0m\u001b[0mforward\u001b[0m\u001b[0;34m(\u001b[0m\u001b[0;34m*\u001b[0m\u001b[0minput\u001b[0m\u001b[0;34m,\u001b[0m \u001b[0;34m**\u001b[0m\u001b[0mkwargs\u001b[0m\u001b[0;34m)\u001b[0m\u001b[0;34m\u001b[0m\u001b[0;34m\u001b[0m\u001b[0m\n\u001b[0m\u001b[1;32m    533\u001b[0m         \u001b[0;32mfor\u001b[0m \u001b[0mhook\u001b[0m \u001b[0;32min\u001b[0m \u001b[0mself\u001b[0m\u001b[0;34m.\u001b[0m\u001b[0m_forward_hooks\u001b[0m\u001b[0;34m.\u001b[0m\u001b[0mvalues\u001b[0m\u001b[0;34m(\u001b[0m\u001b[0;34m)\u001b[0m\u001b[0;34m:\u001b[0m\u001b[0;34m\u001b[0m\u001b[0;34m\u001b[0m\u001b[0m\n\u001b[1;32m    534\u001b[0m             \u001b[0mhook_result\u001b[0m \u001b[0;34m=\u001b[0m \u001b[0mhook\u001b[0m\u001b[0;34m(\u001b[0m\u001b[0mself\u001b[0m\u001b[0;34m,\u001b[0m \u001b[0minput\u001b[0m\u001b[0;34m,\u001b[0m \u001b[0mresult\u001b[0m\u001b[0;34m)\u001b[0m\u001b[0;34m\u001b[0m\u001b[0;34m\u001b[0m\u001b[0m\n",
            "\u001b[0;32m<ipython-input-10-ad74f3a75dee>\u001b[0m in \u001b[0;36mforward\u001b[0;34m(self, inputs, hidden0)\u001b[0m\n\u001b[1;32m      9\u001b[0m \u001b[0;34m\u001b[0m\u001b[0m\n\u001b[1;32m     10\u001b[0m     \u001b[0;32mdef\u001b[0m \u001b[0mforward\u001b[0m\u001b[0;34m(\u001b[0m\u001b[0mself\u001b[0m\u001b[0;34m,\u001b[0m \u001b[0minputs\u001b[0m\u001b[0;34m,\u001b[0m \u001b[0mhidden0\u001b[0m\u001b[0;34m=\u001b[0m\u001b[0;32mNone\u001b[0m\u001b[0;34m)\u001b[0m\u001b[0;34m:\u001b[0m\u001b[0;34m\u001b[0m\u001b[0;34m\u001b[0m\u001b[0m\n\u001b[0;32m---> 11\u001b[0;31m         \u001b[0moutput\u001b[0m\u001b[0;34m,\u001b[0m \u001b[0;34m(\u001b[0m\u001b[0mhidden\u001b[0m\u001b[0;34m,\u001b[0m \u001b[0mcell\u001b[0m\u001b[0;34m)\u001b[0m \u001b[0;34m=\u001b[0m \u001b[0mself\u001b[0m\u001b[0;34m.\u001b[0m\u001b[0mrnn\u001b[0m\u001b[0;34m(\u001b[0m\u001b[0minputs\u001b[0m\u001b[0;34m,\u001b[0m \u001b[0mhidden0\u001b[0m\u001b[0;34m)\u001b[0m \u001b[0;31m#LSTM層\u001b[0m\u001b[0;34m\u001b[0m\u001b[0;34m\u001b[0m\u001b[0m\n\u001b[0m\u001b[1;32m     12\u001b[0m         \u001b[0moutput\u001b[0m \u001b[0;34m=\u001b[0m \u001b[0mself\u001b[0m\u001b[0;34m.\u001b[0m\u001b[0moutput_layer\u001b[0m\u001b[0;34m(\u001b[0m\u001b[0moutput\u001b[0m\u001b[0;34m[\u001b[0m\u001b[0;34m:\u001b[0m\u001b[0;34m,\u001b[0m \u001b[0;34m-\u001b[0m\u001b[0;36m1\u001b[0m\u001b[0;34m,\u001b[0m \u001b[0;34m:\u001b[0m\u001b[0;34m]\u001b[0m\u001b[0;34m)\u001b[0m \u001b[0;31m#全結合層\u001b[0m\u001b[0;34m\u001b[0m\u001b[0;34m\u001b[0m\u001b[0m\n\u001b[1;32m     13\u001b[0m \u001b[0;34m\u001b[0m\u001b[0m\n",
            "\u001b[0;32m/usr/local/lib/python3.6/dist-packages/torch/nn/modules/module.py\u001b[0m in \u001b[0;36m__call__\u001b[0;34m(self, *input, **kwargs)\u001b[0m\n\u001b[1;32m    530\u001b[0m             \u001b[0mresult\u001b[0m \u001b[0;34m=\u001b[0m \u001b[0mself\u001b[0m\u001b[0;34m.\u001b[0m\u001b[0m_slow_forward\u001b[0m\u001b[0;34m(\u001b[0m\u001b[0;34m*\u001b[0m\u001b[0minput\u001b[0m\u001b[0;34m,\u001b[0m \u001b[0;34m**\u001b[0m\u001b[0mkwargs\u001b[0m\u001b[0;34m)\u001b[0m\u001b[0;34m\u001b[0m\u001b[0;34m\u001b[0m\u001b[0m\n\u001b[1;32m    531\u001b[0m         \u001b[0;32melse\u001b[0m\u001b[0;34m:\u001b[0m\u001b[0;34m\u001b[0m\u001b[0;34m\u001b[0m\u001b[0m\n\u001b[0;32m--> 532\u001b[0;31m             \u001b[0mresult\u001b[0m \u001b[0;34m=\u001b[0m \u001b[0mself\u001b[0m\u001b[0;34m.\u001b[0m\u001b[0mforward\u001b[0m\u001b[0;34m(\u001b[0m\u001b[0;34m*\u001b[0m\u001b[0minput\u001b[0m\u001b[0;34m,\u001b[0m \u001b[0;34m**\u001b[0m\u001b[0mkwargs\u001b[0m\u001b[0;34m)\u001b[0m\u001b[0;34m\u001b[0m\u001b[0;34m\u001b[0m\u001b[0m\n\u001b[0m\u001b[1;32m    533\u001b[0m         \u001b[0;32mfor\u001b[0m \u001b[0mhook\u001b[0m \u001b[0;32min\u001b[0m \u001b[0mself\u001b[0m\u001b[0;34m.\u001b[0m\u001b[0m_forward_hooks\u001b[0m\u001b[0;34m.\u001b[0m\u001b[0mvalues\u001b[0m\u001b[0;34m(\u001b[0m\u001b[0;34m)\u001b[0m\u001b[0;34m:\u001b[0m\u001b[0;34m\u001b[0m\u001b[0;34m\u001b[0m\u001b[0m\n\u001b[1;32m    534\u001b[0m             \u001b[0mhook_result\u001b[0m \u001b[0;34m=\u001b[0m \u001b[0mhook\u001b[0m\u001b[0;34m(\u001b[0m\u001b[0mself\u001b[0m\u001b[0;34m,\u001b[0m \u001b[0minput\u001b[0m\u001b[0;34m,\u001b[0m \u001b[0mresult\u001b[0m\u001b[0;34m)\u001b[0m\u001b[0;34m\u001b[0m\u001b[0;34m\u001b[0m\u001b[0m\n",
            "\u001b[0;32m/usr/local/lib/python3.6/dist-packages/torch/nn/modules/rnn.py\u001b[0m in \u001b[0;36mforward\u001b[0;34m(self, input, hx)\u001b[0m\n\u001b[1;32m    557\u001b[0m         \u001b[0;32mif\u001b[0m \u001b[0mbatch_sizes\u001b[0m \u001b[0;32mis\u001b[0m \u001b[0;32mNone\u001b[0m\u001b[0;34m:\u001b[0m\u001b[0;34m\u001b[0m\u001b[0;34m\u001b[0m\u001b[0m\n\u001b[1;32m    558\u001b[0m             result = _VF.lstm(input, hx, self._flat_weights, self.bias, self.num_layers,\n\u001b[0;32m--> 559\u001b[0;31m                               self.dropout, self.training, self.bidirectional, self.batch_first)\n\u001b[0m\u001b[1;32m    560\u001b[0m         \u001b[0;32melse\u001b[0m\u001b[0;34m:\u001b[0m\u001b[0;34m\u001b[0m\u001b[0;34m\u001b[0m\u001b[0m\n\u001b[1;32m    561\u001b[0m             result = _VF.lstm(input, batch_sizes, hx, self._flat_weights, self.bias,\n",
            "\u001b[0;31mKeyboardInterrupt\u001b[0m: "
          ]
        }
      ]
    },
    {
      "cell_type": "code",
      "metadata": {
        "id": "XlJxUanfl-ja",
        "colab_type": "code",
        "colab": {
          "base_uri": "https://localhost:8080/",
          "height": 34
        },
        "outputId": "d86bc32d-8a6a-4771-a929-4d5af7f15bb9"
      },
      "source": [
        "model.eval()\n",
        "\n",
        "data = torch.tensor([train_x[0]])\n",
        "pred = model(data)\n",
        "pred"
      ],
      "execution_count": 89,
      "outputs": [
        {
          "output_type": "execute_result",
          "data": {
            "text/plain": [
              "tensor([[-0.8539]], grad_fn=<AddmmBackward>)"
            ]
          },
          "metadata": {
            "tags": []
          },
          "execution_count": 89
        }
      ]
    },
    {
      "cell_type": "code",
      "metadata": {
        "id": "yMu0C9xlnoeX",
        "colab_type": "code",
        "colab": {
          "base_uri": "https://localhost:8080/",
          "height": 265
        },
        "outputId": "9dd6a044-48d0-4213-f402-28d64e942272"
      },
      "source": [
        "# 予測と答えの比較\n",
        "train_data = [i[0] for i in train_x[0]]\n",
        "plt.plot(range(len(train_data)+1), train_data+[pred])\n",
        "plt.plot(range(len(train_data)+1), train_data+[train_t[0][0]], linestyle='--')\n",
        "plt.show()"
      ],
      "execution_count": 91,
      "outputs": [
        {
          "output_type": "display_data",
          "data": {
            "image/png": "[encoded data removed]",
            "text/plain": [
              "<Figure size 432x288 with 1 Axes>"
            ]
          },
          "metadata": {
            "tags": []
          }
        }
      ]
    },
    {
      "cell_type": "markdown",
      "metadata": {
        "id": "6OJJ6TrmnqvC",
        "colab_type": "text"
      },
      "source": [
        "ぴったり重なっている"
      ]
    },
    {
      "cell_type": "code",
      "metadata": {
        "id": "URF3lYgtsOcn",
        "colab_type": "code",
        "colab": {}
      },
      "source": [
        ""
      ],
      "execution_count": 0,
      "outputs": []
    }
  ]
}