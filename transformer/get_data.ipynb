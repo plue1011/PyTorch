{
 "cells": [
  {
   "cell_type": "code",
   "execution_count": 22,
   "id": "chemical-designer",
   "metadata": {},
   "outputs": [],
   "source": [
    "import requests\n",
    "from bs4 import BeautifulSoup\n",
    "import pandas as pd"
   ]
  },
  {
   "cell_type": "code",
   "execution_count": 2,
   "id": "indie-winter",
   "metadata": {},
   "outputs": [],
   "source": [
    "result = requests.get('http://dictionary.sensagent.com/%E3%82%AB%E3%82%BF%E3%82%AB%E3%83%8A%E7%95%A5%E8%AA%9E%E4%B8%80%E8%A6%A7/ja-ja/')"
   ]
  },
  {
   "cell_type": "code",
   "execution_count": 5,
   "id": "smooth-enough",
   "metadata": {},
   "outputs": [],
   "source": [
    "soup = BeautifulSoup(result.text, 'lxml')"
   ]
  },
  {
   "cell_type": "code",
   "execution_count": 26,
   "id": "viral-stake",
   "metadata": {},
   "outputs": [],
   "source": [
    "short_list = []\n",
    "for text in soup.find_all('li'):\n",
    "    if ':' in text.text:\n",
    "        short_list.append([t.replace('『', '').replace('』', '')\n",
    "                          for t in text.text.split(':')][:2])\n",
    "    elif '：' in text.text:\n",
    "        short_list.append([t.replace('『', '').replace('』', '')\n",
    "                          for t in text.text.split('：')][:2])\n",
    "        \n",
    "pd.DataFrame(short_list, columns=['short', 'original']).to_csv('data/train.csv', index=False)"
   ]
  },
  {
   "cell_type": "code",
   "execution_count": null,
   "id": "assumed-coach",
   "metadata": {},
   "outputs": [],
   "source": []
  },
  {
   "cell_type": "code",
   "execution_count": null,
   "id": "usual-allowance",
   "metadata": {},
   "outputs": [],
   "source": []
  }
 ],
 "metadata": {
  "kernelspec": {
   "display_name": "Python 3",
   "language": "python",
   "name": "python3"
  },
  "language_info": {
   "codemirror_mode": {
    "name": "ipython",
    "version": 3
   },
   "file_extension": ".py",
   "mimetype": "text/x-python",
   "name": "python",
   "nbconvert_exporter": "python",
   "pygments_lexer": "ipython3",
   "version": "3.8.5"
  }
 },
 "nbformat": 4,
 "nbformat_minor": 5
}
