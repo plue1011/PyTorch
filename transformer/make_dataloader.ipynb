{
 "cells": [
  {
   "cell_type": "code",
   "execution_count": 144,
   "id": "scientific-advantage",
   "metadata": {},
   "outputs": [],
   "source": [
    "import pandas as pd\n",
    "import torch\n",
    "from torch.utils.data import Dataset, DataLoader\n",
    "from pykakasi import kakasi\n",
    "from typing import Tuple, List"
   ]
  },
  {
   "cell_type": "code",
   "execution_count": 9,
   "id": "instant-survey",
   "metadata": {},
   "outputs": [
    {
     "data": {
      "text/html": [
       "<div>\n",
       "<style scoped>\n",
       "    .dataframe tbody tr th:only-of-type {\n",
       "        vertical-align: middle;\n",
       "    }\n",
       "\n",
       "    .dataframe tbody tr th {\n",
       "        vertical-align: top;\n",
       "    }\n",
       "\n",
       "    .dataframe thead th {\n",
       "        text-align: right;\n",
       "    }\n",
       "</style>\n",
       "<table border=\"1\" class=\"dataframe\">\n",
       "  <thead>\n",
       "    <tr style=\"text-align: right;\">\n",
       "      <th></th>\n",
       "      <th>short</th>\n",
       "      <th>original</th>\n",
       "    </tr>\n",
       "  </thead>\n",
       "  <tbody>\n",
       "    <tr>\n",
       "      <th>0</th>\n",
       "      <td>アイコ</td>\n",
       "      <td>アイスコーヒー</td>\n",
       "    </tr>\n",
       "    <tr>\n",
       "      <th>1</th>\n",
       "      <td>アイシン</td>\n",
       "      <td>アイシン精機</td>\n",
       "    </tr>\n",
       "    <tr>\n",
       "      <th>2</th>\n",
       "      <td>赤プリ</td>\n",
       "      <td>グランドプリンスホテル赤坂</td>\n",
       "    </tr>\n",
       "    <tr>\n",
       "      <th>3</th>\n",
       "      <td>アキバ</td>\n",
       "      <td>秋葉原</td>\n",
       "    </tr>\n",
       "    <tr>\n",
       "      <th>4</th>\n",
       "      <td>アクエリ</td>\n",
       "      <td>アクエリアス</td>\n",
       "    </tr>\n",
       "  </tbody>\n",
       "</table>\n",
       "</div>"
      ],
      "text/plain": [
       "  short       original\n",
       "0   アイコ        アイスコーヒー\n",
       "1  アイシン         アイシン精機\n",
       "2   赤プリ  グランドプリンスホテル赤坂\n",
       "3   アキバ            秋葉原\n",
       "4  アクエリ         アクエリアス"
      ]
     },
     "execution_count": 9,
     "metadata": {},
     "output_type": "execute_result"
    }
   ],
   "source": [
    "df = pd.read_csv('data/train_manual.csv', encoding=\"SHIFT-JIS\")\n",
    "df.head()"
   ]
  },
  {
   "cell_type": "code",
   "execution_count": 50,
   "id": "million-vault",
   "metadata": {},
   "outputs": [],
   "source": [
    "df['short_hepburn'] = df['short'].apply(\n",
    "    lambda x: ''.join([item['hepburn'].replace('#', '-') for item in transform.convert(x.replace('ー', '#'))])\n",
    ")\n",
    "\n",
    "df['original_hepburn'] = df['original'].apply(\n",
    "    lambda x: ''.join([item['hepburn'].replace('#', '-') for item in transform.convert(x.replace('ー', '#'))])\n",
    ")"
   ]
  },
  {
   "cell_type": "code",
   "execution_count": 51,
   "id": "conditional-sugar",
   "metadata": {},
   "outputs": [
    {
     "data": {
      "text/html": [
       "<div>\n",
       "<style scoped>\n",
       "    .dataframe tbody tr th:only-of-type {\n",
       "        vertical-align: middle;\n",
       "    }\n",
       "\n",
       "    .dataframe tbody tr th {\n",
       "        vertical-align: top;\n",
       "    }\n",
       "\n",
       "    .dataframe thead th {\n",
       "        text-align: right;\n",
       "    }\n",
       "</style>\n",
       "<table border=\"1\" class=\"dataframe\">\n",
       "  <thead>\n",
       "    <tr style=\"text-align: right;\">\n",
       "      <th></th>\n",
       "      <th>short</th>\n",
       "      <th>original</th>\n",
       "      <th>short_hepburn</th>\n",
       "      <th>original_hepburn</th>\n",
       "    </tr>\n",
       "  </thead>\n",
       "  <tbody>\n",
       "    <tr>\n",
       "      <th>0</th>\n",
       "      <td>アイコ</td>\n",
       "      <td>アイスコーヒー</td>\n",
       "      <td>aiko</td>\n",
       "      <td>aisuko-hi-</td>\n",
       "    </tr>\n",
       "    <tr>\n",
       "      <th>1</th>\n",
       "      <td>アイシン</td>\n",
       "      <td>アイシン精機</td>\n",
       "      <td>aishin</td>\n",
       "      <td>aishinseiki</td>\n",
       "    </tr>\n",
       "    <tr>\n",
       "      <th>2</th>\n",
       "      <td>赤プリ</td>\n",
       "      <td>グランドプリンスホテル赤坂</td>\n",
       "      <td>akapuri</td>\n",
       "      <td>gurandopurinsuhoteruakasaka</td>\n",
       "    </tr>\n",
       "    <tr>\n",
       "      <th>3</th>\n",
       "      <td>アキバ</td>\n",
       "      <td>秋葉原</td>\n",
       "      <td>akiba</td>\n",
       "      <td>akihabara</td>\n",
       "    </tr>\n",
       "    <tr>\n",
       "      <th>4</th>\n",
       "      <td>アクエリ</td>\n",
       "      <td>アクエリアス</td>\n",
       "      <td>akueri</td>\n",
       "      <td>akueriasu</td>\n",
       "    </tr>\n",
       "    <tr>\n",
       "      <th>...</th>\n",
       "      <td>...</td>\n",
       "      <td>...</td>\n",
       "      <td>...</td>\n",
       "      <td>...</td>\n",
       "    </tr>\n",
       "    <tr>\n",
       "      <th>392</th>\n",
       "      <td>ワラキン</td>\n",
       "      <td>笑いの金メダル</td>\n",
       "      <td>warakin</td>\n",
       "      <td>warainokinmedaru</td>\n",
       "    </tr>\n",
       "    <tr>\n",
       "      <th>393</th>\n",
       "      <td>ワンナイ</td>\n",
       "      <td>ワンナイト</td>\n",
       "      <td>wannai</td>\n",
       "      <td>wannaito</td>\n",
       "    </tr>\n",
       "    <tr>\n",
       "      <th>394</th>\n",
       "      <td>ワーネバ</td>\n",
       "      <td>ワールドネバーランド</td>\n",
       "      <td>wa-neba</td>\n",
       "      <td>wa-rudoneba-rando</td>\n",
       "    </tr>\n",
       "    <tr>\n",
       "      <th>395</th>\n",
       "      <td>ワンピ</td>\n",
       "      <td>ワンピース</td>\n",
       "      <td>wanpi</td>\n",
       "      <td>wanpi-su</td>\n",
       "    </tr>\n",
       "    <tr>\n",
       "      <th>396</th>\n",
       "      <td>ワンフェス</td>\n",
       "      <td>ワンダーフェスティバル</td>\n",
       "      <td>wanfesu</td>\n",
       "      <td>wanda-fesuteibaru</td>\n",
       "    </tr>\n",
       "  </tbody>\n",
       "</table>\n",
       "<p>397 rows × 4 columns</p>\n",
       "</div>"
      ],
      "text/plain": [
       "     short       original short_hepburn             original_hepburn\n",
       "0      アイコ        アイスコーヒー          aiko                   aisuko-hi-\n",
       "1     アイシン         アイシン精機        aishin                  aishinseiki\n",
       "2      赤プリ  グランドプリンスホテル赤坂       akapuri  gurandopurinsuhoteruakasaka\n",
       "3      アキバ            秋葉原         akiba                    akihabara\n",
       "4     アクエリ         アクエリアス        akueri                    akueriasu\n",
       "..     ...            ...           ...                          ...\n",
       "392   ワラキン        笑いの金メダル       warakin             warainokinmedaru\n",
       "393   ワンナイ          ワンナイト        wannai                     wannaito\n",
       "394   ワーネバ     ワールドネバーランド       wa-neba            wa-rudoneba-rando\n",
       "395    ワンピ          ワンピース         wanpi                     wanpi-su\n",
       "396  ワンフェス    ワンダーフェスティバル       wanfesu            wanda-fesuteibaru\n",
       "\n",
       "[397 rows x 4 columns]"
      ]
     },
     "execution_count": 51,
     "metadata": {},
     "output_type": "execute_result"
    }
   ],
   "source": [
    "df"
   ]
  },
  {
   "cell_type": "code",
   "execution_count": 55,
   "id": "acceptable-incentive",
   "metadata": {},
   "outputs": [
    {
     "data": {
      "text/plain": [
       "['a', 'i', 's', 'h', 'i', 'n', 's', 'e', 'i', 'k', 'i']"
      ]
     },
     "execution_count": 55,
     "metadata": {},
     "output_type": "execute_result"
    }
   ],
   "source": [
    "list(df['original_hepburn'].iloc[1])"
   ]
  },
  {
   "cell_type": "code",
   "execution_count": 61,
   "id": "discrete-platinum",
   "metadata": {},
   "outputs": [],
   "source": [
    "alpha2num = {chr(c): i+1 for i, c in enumerate(range(ord('a'),ord('z')+1))}\n",
    "num2alpha = {i+1: chr(c) for i, c in enumerate(range(ord('a'),ord('z')+1))}"
   ]
  },
  {
   "cell_type": "code",
   "execution_count": 62,
   "id": "attractive-tragedy",
   "metadata": {},
   "outputs": [
    {
     "data": {
      "text/plain": [
       "{1: 'a',\n",
       " 2: 'b',\n",
       " 3: 'c',\n",
       " 4: 'd',\n",
       " 5: 'e',\n",
       " 6: 'f',\n",
       " 7: 'g',\n",
       " 8: 'h',\n",
       " 9: 'i',\n",
       " 10: 'j',\n",
       " 11: 'k',\n",
       " 12: 'l',\n",
       " 13: 'm',\n",
       " 14: 'n',\n",
       " 15: 'o',\n",
       " 16: 'p',\n",
       " 17: 'q',\n",
       " 18: 'r',\n",
       " 19: 's',\n",
       " 20: 't',\n",
       " 21: 'u',\n",
       " 22: 'v',\n",
       " 23: 'w',\n",
       " 24: 'x',\n",
       " 25: 'y',\n",
       " 26: 'z'}"
      ]
     },
     "execution_count": 62,
     "metadata": {},
     "output_type": "execute_result"
    }
   ],
   "source": [
    "num2alpha"
   ]
  },
  {
   "cell_type": "code",
   "execution_count": 60,
   "id": "sudden-system",
   "metadata": {},
   "outputs": [
    {
     "data": {
      "text/plain": [
       "{'a': 1,\n",
       " 'b': 2,\n",
       " 'c': 3,\n",
       " 'd': 4,\n",
       " 'e': 5,\n",
       " 'f': 6,\n",
       " 'g': 7,\n",
       " 'h': 8,\n",
       " 'i': 9,\n",
       " 'j': 10,\n",
       " 'k': 11,\n",
       " 'l': 12,\n",
       " 'm': 13,\n",
       " 'n': 14,\n",
       " 'o': 15,\n",
       " 'p': 16,\n",
       " 'q': 17,\n",
       " 'r': 18,\n",
       " 's': 19,\n",
       " 't': 20,\n",
       " 'u': 21,\n",
       " 'v': 22,\n",
       " 'w': 23,\n",
       " 'x': 24,\n",
       " 'y': 25,\n",
       " 'z': 26}"
      ]
     },
     "execution_count": 60,
     "metadata": {},
     "output_type": "execute_result"
    }
   ],
   "source": [
    "alpha_dict"
   ]
  },
  {
   "cell_type": "code",
   "execution_count": 63,
   "id": "lesser-elder",
   "metadata": {},
   "outputs": [],
   "source": [
    "originals = df['short'].tolist()"
   ]
  },
  {
   "cell_type": "code",
   "execution_count": 173,
   "id": "wireless-custody",
   "metadata": {},
   "outputs": [],
   "source": [
    "class ShortenDataset(Dataset):\n",
    "    def __init__(self, \n",
    "                 originals: list, \n",
    "                 shorts: list,\n",
    "                 max_len: int\n",
    "                ):\n",
    "        self.pad_id = 0\n",
    "        self.macron_id = 27\n",
    "        self.start_id = 28\n",
    "        self.end_id = 29\n",
    "        self.max_len = max_len\n",
    "        transform = kakasi()\n",
    "        \n",
    "        self.originals = list(map(self.padding ,\n",
    "                                  [list(map(self.transform, \n",
    "                                            list(''.join([item['hepburn'].replace('#', '-') \n",
    "                                                          for item in transform.convert(text.replace('ー', '#'))]))\n",
    "                                           ))\n",
    "                               for text in originals]))\n",
    "        \n",
    "        self.shorts = list(map(self.shift_right, \n",
    "                               [list(map(self.transform, \n",
    "                                         list(''.join([item['hepburn'].replace('#', '-') \n",
    "                                                       for item in transform.convert(text.replace('ー', '#'))]))\n",
    "                                        )) \n",
    "                                for text in shorts]))\n",
    "        \n",
    "    def __len__(self):\n",
    "        return len(self.originals)\n",
    "    \n",
    "    def __getitem__(self, \n",
    "                    index: int\n",
    "                   ) -> Tuple[torch.Tensor]:\n",
    "        return torch.tensor(self.originals[index]), torch.tensor(self.shorts[index])\n",
    "    \n",
    "    def transform(self, alphabet: List[str]) -> List[str]:\n",
    "        if alphabet.isalpha():\n",
    "            return ord(alphabet) - ord('a') + 1\n",
    "        elif alphabet == '-':\n",
    "            return self.macron_id\n",
    "        \n",
    "    def padding(self, alphabet_list: List[str]) -> List[str]:\n",
    "        return alphabet_list + [self.pad_id for _ in range(self.max_len-len(alphabet_list))]\n",
    "    \n",
    "    def shift_right(self, alphabet_list: List[str]) -> List[str]:\n",
    "        return [self.start_id] + alphabet_list + [self.end_id] + [self.pad_id for _ in range(self.max_len-len(alphabet_list))]"
   ]
  },
  {
   "cell_type": "code",
   "execution_count": 174,
   "id": "acceptable-incidence",
   "metadata": {},
   "outputs": [
    {
     "data": {
      "text/plain": [
       "(tensor([ 1,  9, 19, 21, 11, 15, 27,  8,  9, 27,  0,  0,  0,  0,  0,  0,  0,  0,\n",
       "          0,  0]),\n",
       " tensor([28,  1,  9, 11, 15, 29,  0,  0,  0,  0,  0,  0,  0,  0,  0,  0,  0,  0,\n",
       "          0,  0,  0,  0]))"
      ]
     },
     "execution_count": 174,
     "metadata": {},
     "output_type": "execute_result"
    }
   ],
   "source": [
    "dataset = ShortenDataset(df['original'].tolist(), df['short'].tolist(), 20)\n",
    "dataset[0]"
   ]
  },
  {
   "cell_type": "code",
   "execution_count": 175,
   "id": "typical-association",
   "metadata": {},
   "outputs": [],
   "source": [
    "dataloader = DataLoader(dataset, batch_size=4, shuffle=True)"
   ]
  },
  {
   "cell_type": "code",
   "execution_count": 177,
   "id": "amber-water",
   "metadata": {},
   "outputs": [
    {
     "name": "stdout",
     "output_type": "stream",
     "text": [
      "tensor([[ 4, 15, 20,  1, 14,  2,  1, 11, 25,  1, 14, 19,  5, 18, 21,  0,  0,  0,\n",
      "          0,  0],\n",
      "        [ 1, 11,  1, 26, 21, 11,  9, 14,  3,  8,  1,  3,  8,  1,  0,  0,  0,  0,\n",
      "          0,  0],\n",
      "        [ 2,  1, 14,  2, 21, 27,  2, 21, 18,  5, 27,  4, 15,  0,  0,  0,  0,  0,\n",
      "          0,  0],\n",
      "        [ 1, 18,  9, 16, 21, 18, 15, 10,  9,  5, 11, 21, 20, 15,  0,  0,  0,  0,\n",
      "          0,  0]])\n",
      "tensor([[28,  4, 15, 20,  1, 11, 25,  1, 14, 29,  0,  0,  0,  0,  0,  0,  0,  0,\n",
      "          0,  0,  0],\n",
      "        [28,  3,  8,  1,  3,  8,  1, 29,  0,  0,  0,  0,  0,  0,  0,  0,  0,  0,\n",
      "          0,  0,  0],\n",
      "        [28,  2,  1, 14,  2, 21, 18,  5, 29,  0,  0,  0,  0,  0,  0,  0,  0,  0,\n",
      "          0,  0,  0],\n",
      "        [28,  1, 18,  9, 16, 21, 18, 15, 29,  0,  0,  0,  0,  0,  0,  0,  0,  0,\n",
      "          0,  0,  0]])\n",
      "tensor([[ 4, 15, 20,  1, 11, 25,  1, 14, 29,  0,  0,  0,  0,  0,  0,  0,  0,  0,\n",
      "          0,  0,  0],\n",
      "        [ 3,  8,  1,  3,  8,  1, 29,  0,  0,  0,  0,  0,  0,  0,  0,  0,  0,  0,\n",
      "          0,  0,  0],\n",
      "        [ 2,  1, 14,  2, 21, 18,  5, 29,  0,  0,  0,  0,  0,  0,  0,  0,  0,  0,\n",
      "          0,  0,  0],\n",
      "        [ 1, 18,  9, 16, 21, 18, 15, 29,  0,  0,  0,  0,  0,  0,  0,  0,  0,  0,\n",
      "          0,  0,  0]])\n"
     ]
    }
   ],
   "source": [
    "for x, t in dataloader:\n",
    "    print(x)\n",
    "    print(t[:,:-1])\n",
    "    print(t[:,1:])\n",
    "    break"
   ]
  },
  {
   "cell_type": "code",
   "execution_count": null,
   "id": "cellular-quest",
   "metadata": {},
   "outputs": [],
   "source": []
  }
 ],
 "metadata": {
  "kernelspec": {
   "display_name": "Python 3",
   "language": "python",
   "name": "python3"
  },
  "language_info": {
   "codemirror_mode": {
    "name": "ipython",
    "version": 3
   },
   "file_extension": ".py",
   "mimetype": "text/x-python",
   "name": "python",
   "nbconvert_exporter": "python",
   "pygments_lexer": "ipython3",
   "version": "3.8.5"
  }
 },
 "nbformat": 4,
 "nbformat_minor": 5
}
